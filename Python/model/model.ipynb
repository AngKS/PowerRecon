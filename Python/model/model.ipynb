{
 "cells": [
  {
   "cell_type": "code",
   "execution_count": 6,
   "metadata": {
    "collapsed": true
   },
   "outputs": [
    {
     "data": {
      "text/plain": "          Temp\n0    29.000000\n1    28.037328\n2    27.548370\n3    27.216825\n4    28.052765\n..         ...\n596  18.532334\n597  18.539408\n598  18.539688\n599  18.548581\n600  18.558053\n\n[601 rows x 1 columns]",
      "text/html": "<div>\n<style scoped>\n    .dataframe tbody tr th:only-of-type {\n        vertical-align: middle;\n    }\n\n    .dataframe tbody tr th {\n        vertical-align: top;\n    }\n\n    .dataframe thead th {\n        text-align: right;\n    }\n</style>\n<table border=\"1\" class=\"dataframe\">\n  <thead>\n    <tr style=\"text-align: right;\">\n      <th></th>\n      <th>Temp</th>\n    </tr>\n  </thead>\n  <tbody>\n    <tr>\n      <th>0</th>\n      <td>29.000000</td>\n    </tr>\n    <tr>\n      <th>1</th>\n      <td>28.037328</td>\n    </tr>\n    <tr>\n      <th>2</th>\n      <td>27.548370</td>\n    </tr>\n    <tr>\n      <th>3</th>\n      <td>27.216825</td>\n    </tr>\n    <tr>\n      <th>4</th>\n      <td>28.052765</td>\n    </tr>\n    <tr>\n      <th>...</th>\n      <td>...</td>\n    </tr>\n    <tr>\n      <th>596</th>\n      <td>18.532334</td>\n    </tr>\n    <tr>\n      <th>597</th>\n      <td>18.539408</td>\n    </tr>\n    <tr>\n      <th>598</th>\n      <td>18.539688</td>\n    </tr>\n    <tr>\n      <th>599</th>\n      <td>18.548581</td>\n    </tr>\n    <tr>\n      <th>600</th>\n      <td>18.558053</td>\n    </tr>\n  </tbody>\n</table>\n<p>601 rows × 1 columns</p>\n</div>"
     },
     "execution_count": 6,
     "metadata": {},
     "output_type": "execute_result"
    }
   ],
   "source": [
    "import datetime\n",
    "import json\n",
    "import cv2\n",
    "import mediapipe as mp\n",
    "import pandas as pd\n",
    "\n",
    "df = pd.read_csv('../Data/TempData2').drop('Unnamed: 0', axis=1)\n",
    "df"
   ]
  },
  {
   "cell_type": "code",
   "execution_count": 8,
   "outputs": [
    {
     "data": {
      "text/plain": "Temp    29.0\nName: 0, dtype: float64"
     },
     "execution_count": 8,
     "metadata": {},
     "output_type": "execute_result"
    }
   ],
   "source": [
    "df.loc[0]"
   ],
   "metadata": {
    "collapsed": false,
    "pycharm": {
     "name": "#%%\n"
    }
   }
  },
  {
   "cell_type": "code",
   "execution_count": 11,
   "outputs": [
    {
     "data": {
      "text/plain": "float"
     },
     "execution_count": 11,
     "metadata": {},
     "output_type": "execute_result"
    }
   ],
   "source": [
    "type(float(df.loc[0].values))"
   ],
   "metadata": {
    "collapsed": false,
    "pycharm": {
     "name": "#%%\n"
    }
   }
  }
 ],
 "metadata": {
  "kernelspec": {
   "display_name": "Python 3",
   "language": "python",
   "name": "python3"
  },
  "language_info": {
   "codemirror_mode": {
    "name": "ipython",
    "version": 2
   },
   "file_extension": ".py",
   "mimetype": "text/x-python",
   "name": "python",
   "nbconvert_exporter": "python",
   "pygments_lexer": "ipython2",
   "version": "2.7.6"
  }
 },
 "nbformat": 4,
 "nbformat_minor": 0
}